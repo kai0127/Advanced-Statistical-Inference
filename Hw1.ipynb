{
 "cells": [
  {
   "cell_type": "markdown",
   "id": "4936eecc-b0b8-47d1-b6ec-c4aa0ce48c32",
   "metadata": {},
   "source": [
    "# <center> Advanced Statistical Inference HW 1</center>"
   ]
  },
  {
   "cell_type": "markdown",
   "id": "b4d6919b-6182-4add-9a9b-e1404fb3cbfc",
   "metadata": {},
   "source": [
    "&copy; 2023 Kaiwen Zhou"
   ]
  },
  {
   "cell_type": "markdown",
   "id": "56084a1b-c570-4918-8a6d-45e44e866640",
   "metadata": {},
   "source": [
    "# Problem 2"
   ]
  },
  {
   "cell_type": "markdown",
   "id": "8318857e-3adb-49bf-98c4-038782ddbe29",
   "metadata": {},
   "source": [
    "Write a numpy function to compute the pseudoinverse of a real matrix, building upon the numpy SVD function discussed in class. Test that your function works by generating a sequence of random invertible matrices, and check that for each one, your pseudoinverse equals the actual inverse up to numerical precision."
   ]
  },
  {
   "cell_type": "markdown",
   "id": "11810fba-ad49-430b-8ee8-f255b38333f3",
   "metadata": {},
   "source": [
    "**Solution:**\n",
    "\n",
    "WLOG, suppose $X\\in \\mathbb{R}^{m\\times n}$, $m\\le n$. Then, by SVD, we have $X = U\\Sigma V^\\top$, where $U\\in \\mathbb{R}^{m\\times m}$, $V\\in \\mathbb{R}^{n\\times n}$ are orthogonal matrices, and $\\Sigma \\in \\mathbb{R}^{m\\times n}$ has non-negative singular values $\\sigma_1\\ge \\cdots \\ge \\sigma_p \\ge \\sigma_{p+1} = \\cdots = \\sigma_m = 0$, $p\\le \\min\\{m, n\\}$, on its diagonal and zeroes elsewhere.\n",
    "\n",
    "Then, we have $$\n",
    "X^{\\dagger} = \\left(X^\\top X\\right)^{-1} X^\\top = \\left(V\\Sigma^\\top U^\\top U \\Sigma V^\\top\\right)^{-1} V\\Sigma^\\top U^\\top = \\left(V \\left(\\Sigma^\\top \\Sigma\\right) V^\\top \\right)^{-1} V\\Sigma^\\top U^\\top = V \\left(\\Sigma^\\top \\Sigma\\right)^{-1}\\Sigma^\\top U^\\top  = V \\Sigma^{\\dagger} U^\\top\n",
    "$$\n",
    "That is, the pseudo-inverse given by the SVD is $X^{\\dagger} = V \\Sigma^{\\dagger} U^\\top$."
   ]
  },
  {
   "cell_type": "code",
   "execution_count": 93,
   "id": "d7e77c4b-418c-4dcd-a27e-f1c3981b922f",
   "metadata": {},
   "outputs": [],
   "source": [
    "import numpy as np\n",
    "from numpy.linalg import svd, inv"
   ]
  },
  {
   "cell_type": "code",
   "execution_count": 94,
   "id": "afd83e6c-3707-4bdd-b5fa-71c9a08da645",
   "metadata": {},
   "outputs": [],
   "source": [
    "def my_pseudo_inverse(X):\n",
    "    U, s_vals, Vh = svd(X)  # U = U, np.diag(s_vals) = Σ,  Vh = V.T\n",
    "    Σ = np.diag(s_vals)\n",
    "    V = Vh.T\n",
    "    pseudo_inv = V @ inv(Σ.T @ Σ) @ Σ.T @ U.T\n",
    "    return pseudo_inv"
   ]
  },
  {
   "cell_type": "code",
   "execution_count": 95,
   "id": "7e74333e-ba57-45de-bffa-3db65469f429",
   "metadata": {},
   "outputs": [
    {
     "name": "stdout",
     "output_type": "stream",
     "text": [
      "Does my pseudoinverse equal the actual inverse:  True\n",
      "Does my pseudoinverse equal the actual inverse:  True\n",
      "Does my pseudoinverse equal the actual inverse:  True\n",
      "Does my pseudoinverse equal the actual inverse:  True\n",
      "Does my pseudoinverse equal the actual inverse:  True\n",
      "Does my pseudoinverse equal the actual inverse:  True\n",
      "Does my pseudoinverse equal the actual inverse:  True\n",
      "Does my pseudoinverse equal the actual inverse:  True\n",
      "Does my pseudoinverse equal the actual inverse:  True\n",
      "Does my pseudoinverse equal the actual inverse:  True\n",
      "Does my pseudoinverse equal the actual inverse:  True\n",
      "Does my pseudoinverse equal the actual inverse:  True\n",
      "Does my pseudoinverse equal the actual inverse:  True\n",
      "Does my pseudoinverse equal the actual inverse:  True\n",
      "Does my pseudoinverse equal the actual inverse:  True\n",
      "Does my pseudoinverse equal the actual inverse:  True\n",
      "Does my pseudoinverse equal the actual inverse:  True\n",
      "Does my pseudoinverse equal the actual inverse:  True\n",
      "Does my pseudoinverse equal the actual inverse:  True\n",
      "Does my pseudoinverse equal the actual inverse:  True\n",
      "Does my pseudoinverse equal the actual inverse:  True\n",
      "Does my pseudoinverse equal the actual inverse:  True\n",
      "Does my pseudoinverse equal the actual inverse:  True\n",
      "Does my pseudoinverse equal the actual inverse:  True\n",
      "Does my pseudoinverse equal the actual inverse:  True\n",
      "Does my pseudoinverse equal the actual inverse:  True\n",
      "Does my pseudoinverse equal the actual inverse:  True\n",
      "Does my pseudoinverse equal the actual inverse:  True\n",
      "Does my pseudoinverse equal the actual inverse:  True\n",
      "Does my pseudoinverse equal the actual inverse:  True\n",
      "Does my pseudoinverse equal the actual inverse:  True\n",
      "Does my pseudoinverse equal the actual inverse:  True\n",
      "Does my pseudoinverse equal the actual inverse:  True\n",
      "Does my pseudoinverse equal the actual inverse:  True\n",
      "Does my pseudoinverse equal the actual inverse:  True\n",
      "Does my pseudoinverse equal the actual inverse:  True\n",
      "Does my pseudoinverse equal the actual inverse:  True\n",
      "Does my pseudoinverse equal the actual inverse:  True\n",
      "Does my pseudoinverse equal the actual inverse:  True\n",
      "Does my pseudoinverse equal the actual inverse:  True\n",
      "Does my pseudoinverse equal the actual inverse:  True\n",
      "Does my pseudoinverse equal the actual inverse:  True\n",
      "Does my pseudoinverse equal the actual inverse:  True\n",
      "Does my pseudoinverse equal the actual inverse:  True\n",
      "Does my pseudoinverse equal the actual inverse:  True\n",
      "Does my pseudoinverse equal the actual inverse:  True\n",
      "Does my pseudoinverse equal the actual inverse:  True\n",
      "Does my pseudoinverse equal the actual inverse:  True\n",
      "Does my pseudoinverse equal the actual inverse:  True\n",
      "Does my pseudoinverse equal the actual inverse:  True\n"
     ]
    }
   ],
   "source": [
    "np.random.seed(99)\n",
    "for _ in range(50):\n",
    "    X = np.array([np.random.normal(loc=0, scale=4, size=4) for _ in range(4)])\n",
    "    X_inv = np.linalg.inv(X)\n",
    "    X_my_pseudo_inv = my_pseudo_inverse(X)\n",
    "    print(\"Does my pseudoinverse equal the actual inverse: \", np.allclose(X_inv, X_my_pseudo_inv))"
   ]
  }
 ],
 "metadata": {
  "kernelspec": {
   "display_name": "Python 3 (ipykernel)",
   "language": "python",
   "name": "python3"
  },
  "language_info": {
   "codemirror_mode": {
    "name": "ipython",
    "version": 3
   },
   "file_extension": ".py",
   "mimetype": "text/x-python",
   "name": "python",
   "nbconvert_exporter": "python",
   "pygments_lexer": "ipython3",
   "version": "3.11.3"
  }
 },
 "nbformat": 4,
 "nbformat_minor": 5
}
